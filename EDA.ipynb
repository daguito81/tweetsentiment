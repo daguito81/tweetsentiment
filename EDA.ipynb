{
 "cells": [
  {
   "cell_type": "code",
   "execution_count": 1,
   "metadata": {},
   "outputs": [],
   "source": [
    "import numpy as np\n",
    "import pandas as pd\n",
    "import matplotlib.pyplot as plt\n",
    "import seaborn as sns\n",
    "%matplotlib inline"
   ]
  },
  {
   "cell_type": "code",
   "execution_count": 18,
   "metadata": {},
   "outputs": [],
   "source": [
    "df1 = pd.read_csv('./Data/hcapriles_final.csv', encoding='utf8', index_col='created_at').sort_index(axis=0, ascending=True)\n",
    "df2 = pd.read_csv('./Data/leopoldolopez_final.csv', encoding='utf8', index_col='created_at').sort_index(axis=0, ascending=True)\n",
    "df3 = pd.read_csv('./Data/juliococo_final.csv', encoding='utf8', index_col='created_at').sort_index(axis=0, ascending=True)\n",
    "df4 = pd.read_csv('./Data/alcaldeledezma_final.csv', encoding='utf8', index_col='created_at').sort_index(axis=0, ascending=True)\n",
    "df5 = pd.read_csv('./Data/MariaCorinaYA_final.csv', encoding='utf8', index_col='created_at').sort_index(axis=0, ascending=True)"
   ]
  },
  {
   "cell_type": "code",
   "execution_count": 19,
   "metadata": {},
   "outputs": [],
   "source": [
    "dataframes = [df1, df2, df3, df4, df5]"
   ]
  },
  {
   "cell_type": "code",
   "execution_count": 24,
   "metadata": {},
   "outputs": [],
   "source": [
    "totaldf = pd.concat(dataframes, axis=0)"
   ]
  },
  {
   "cell_type": "code",
   "execution_count": 26,
   "metadata": {},
   "outputs": [
    {
     "data": {
      "text/html": [
       "<div>\n",
       "<style scoped>\n",
       "    .dataframe tbody tr th:only-of-type {\n",
       "        vertical-align: middle;\n",
       "    }\n",
       "\n",
       "    .dataframe tbody tr th {\n",
       "        vertical-align: top;\n",
       "    }\n",
       "\n",
       "    .dataframe thead th {\n",
       "        text-align: right;\n",
       "    }\n",
       "</style>\n",
       "<table border=\"1\" class=\"dataframe\">\n",
       "  <thead>\n",
       "    <tr style=\"text-align: right;\">\n",
       "      <th></th>\n",
       "      <th>id</th>\n",
       "      <th>full_text</th>\n",
       "      <th>date</th>\n",
       "      <th>length</th>\n",
       "      <th>sentiment</th>\n",
       "      <th>handle</th>\n",
       "    </tr>\n",
       "    <tr>\n",
       "      <th>created_at</th>\n",
       "      <th></th>\n",
       "      <th></th>\n",
       "      <th></th>\n",
       "      <th></th>\n",
       "      <th></th>\n",
       "      <th></th>\n",
       "    </tr>\n",
       "  </thead>\n",
       "  <tbody>\n",
       "    <tr>\n",
       "      <th>2014-01-23 02:06:29</th>\n",
       "      <td>426174065062076416</td>\n",
       "      <td>Pregunto: hoy @RRamirezPDVSA dejo alguna buena...</td>\n",
       "      <td>2014-01-23</td>\n",
       "      <td>114</td>\n",
       "      <td>0.777330</td>\n",
       "      <td>leopoldolopez</td>\n",
       "    </tr>\n",
       "    <tr>\n",
       "      <th>2017-11-11 13:58:50</th>\n",
       "      <td>929347691305472006</td>\n",
       "      <td>Desde la 2da Junta Federal de @ventevenezuela,...</td>\n",
       "      <td>2017-11-11</td>\n",
       "      <td>105</td>\n",
       "      <td>0.763630</td>\n",
       "      <td>MariaCorinaYA</td>\n",
       "    </tr>\n",
       "    <tr>\n",
       "      <th>2018-03-08 11:42:58</th>\n",
       "      <td>971712878016376832</td>\n",
       "      <td>#8Mar Día para recordar el compromiso de millo...</td>\n",
       "      <td>2018-03-08</td>\n",
       "      <td>303</td>\n",
       "      <td>0.936514</td>\n",
       "      <td>hcapriles</td>\n",
       "    </tr>\n",
       "    <tr>\n",
       "      <th>2014-02-02 22:55:28</th>\n",
       "      <td>430112257947602944</td>\n",
       "      <td>Maduro usa el mismo metodo q uso RaulCastro co...</td>\n",
       "      <td>2014-02-02</td>\n",
       "      <td>118</td>\n",
       "      <td>0.866892</td>\n",
       "      <td>leopoldolopez</td>\n",
       "    </tr>\n",
       "    <tr>\n",
       "      <th>2015-11-14 23:31:41</th>\n",
       "      <td>665673487219073024</td>\n",
       "      <td>Ningún pueblo merece ser víctima de la intoler...</td>\n",
       "      <td>2015-11-14</td>\n",
       "      <td>127</td>\n",
       "      <td>0.812566</td>\n",
       "      <td>leopoldolopez</td>\n",
       "    </tr>\n",
       "  </tbody>\n",
       "</table>\n",
       "</div>"
      ],
      "text/plain": [
       "                                     id  \\\n",
       "created_at                                \n",
       "2014-01-23 02:06:29  426174065062076416   \n",
       "2017-11-11 13:58:50  929347691305472006   \n",
       "2018-03-08 11:42:58  971712878016376832   \n",
       "2014-02-02 22:55:28  430112257947602944   \n",
       "2015-11-14 23:31:41  665673487219073024   \n",
       "\n",
       "                                                             full_text  \\\n",
       "created_at                                                               \n",
       "2014-01-23 02:06:29  Pregunto: hoy @RRamirezPDVSA dejo alguna buena...   \n",
       "2017-11-11 13:58:50  Desde la 2da Junta Federal de @ventevenezuela,...   \n",
       "2018-03-08 11:42:58  #8Mar Día para recordar el compromiso de millo...   \n",
       "2014-02-02 22:55:28  Maduro usa el mismo metodo q uso RaulCastro co...   \n",
       "2015-11-14 23:31:41  Ningún pueblo merece ser víctima de la intoler...   \n",
       "\n",
       "                           date  length  sentiment         handle  \n",
       "created_at                                                         \n",
       "2014-01-23 02:06:29  2014-01-23     114   0.777330  leopoldolopez  \n",
       "2017-11-11 13:58:50  2017-11-11     105   0.763630  MariaCorinaYA  \n",
       "2018-03-08 11:42:58  2018-03-08     303   0.936514      hcapriles  \n",
       "2014-02-02 22:55:28  2014-02-02     118   0.866892  leopoldolopez  \n",
       "2015-11-14 23:31:41  2015-11-14     127   0.812566  leopoldolopez  "
      ]
     },
     "execution_count": 26,
     "metadata": {},
     "output_type": "execute_result"
    }
   ],
   "source": [
    "totaldf.sample(5)"
   ]
  },
  {
   "cell_type": "code",
   "execution_count": 40,
   "metadata": {},
   "outputs": [],
   "source": [
    "groupdf = totaldf.groupby('handle')"
   ]
  },
  {
   "cell_type": "code",
   "execution_count": 62,
   "metadata": {},
   "outputs": [
    {
     "data": {
      "text/plain": [
       "handle\n",
       "MariaCorinaYA     0.740251\n",
       "alcaldeledezma    0.724929\n",
       "hcapriles         0.707013\n",
       "juliococo         0.633642\n",
       "leopoldolopez     0.738481\n",
       "Name: sentiment, dtype: float64"
      ]
     },
     "execution_count": 62,
     "metadata": {},
     "output_type": "execute_result"
    }
   ],
   "source": [
    "groupdf.mean()['sentiment']"
   ]
  },
  {
   "cell_type": "code",
   "execution_count": null,
   "metadata": {},
   "outputs": [],
   "source": []
  }
 ],
 "metadata": {
  "kernelspec": {
   "display_name": "Python 3",
   "language": "python",
   "name": "python3"
  },
  "language_info": {
   "codemirror_mode": {
    "name": "ipython",
    "version": 3
   },
   "file_extension": ".py",
   "mimetype": "text/x-python",
   "name": "python",
   "nbconvert_exporter": "python",
   "pygments_lexer": "ipython3",
   "version": "3.6.5"
  }
 },
 "nbformat": 4,
 "nbformat_minor": 2
}
